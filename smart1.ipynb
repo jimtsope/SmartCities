{
 "cells": [
  {
   "cell_type": "code",
   "execution_count": 1,
   "id": "e73326d5-6016-4397-a5a1-6b4a81cd65c6",
   "metadata": {},
   "outputs": [],
   "source": [
    "#import libraries\n",
    "import pandas as pd\n",
    "import numpy as np\n",
    "from datetime import datetime\n",
    "import matplotlib.pyplot as plt"
   ]
  },
  {
   "cell_type": "code",
   "execution_count": 2,
   "id": "19b505c1-6ad2-4c9f-8ffa-be514dfbce36",
   "metadata": {},
   "outputs": [],
   "source": [
    "#read files\n",
    "cons = pd.read_csv('la_load.csv')\n",
    "weather = pd.read_csv('la_weather.csv')"
   ]
  },
  {
   "cell_type": "code",
   "execution_count": 3,
   "id": "15ff8be4-00b1-4f41-8400-a578d4bf265b",
   "metadata": {},
   "outputs": [
    {
     "data": {
      "text/html": [
       "<div>\n",
       "<style scoped>\n",
       "    .dataframe tbody tr th:only-of-type {\n",
       "        vertical-align: middle;\n",
       "    }\n",
       "\n",
       "    .dataframe tbody tr th {\n",
       "        vertical-align: top;\n",
       "    }\n",
       "\n",
       "    .dataframe thead th {\n",
       "        text-align: right;\n",
       "    }\n",
       "</style>\n",
       "<table border=\"1\" class=\"dataframe\">\n",
       "  <thead>\n",
       "    <tr style=\"text-align: right;\">\n",
       "      <th></th>\n",
       "      <th>Datetime</th>\n",
       "      <th>Temperature</th>\n",
       "      <th>Humidity</th>\n",
       "    </tr>\n",
       "  </thead>\n",
       "  <tbody>\n",
       "    <tr>\n",
       "      <th>0</th>\n",
       "      <td>2014-12-31 16:00:00</td>\n",
       "      <td>11.1</td>\n",
       "      <td>15.0</td>\n",
       "    </tr>\n",
       "    <tr>\n",
       "      <th>1</th>\n",
       "      <td>2014-12-31 17:00:00</td>\n",
       "      <td>10.0</td>\n",
       "      <td>16.0</td>\n",
       "    </tr>\n",
       "    <tr>\n",
       "      <th>2</th>\n",
       "      <td>2014-12-31 18:00:00</td>\n",
       "      <td>8.9</td>\n",
       "      <td>25.0</td>\n",
       "    </tr>\n",
       "    <tr>\n",
       "      <th>3</th>\n",
       "      <td>2014-12-31 19:00:00</td>\n",
       "      <td>6.7</td>\n",
       "      <td>31.0</td>\n",
       "    </tr>\n",
       "    <tr>\n",
       "      <th>4</th>\n",
       "      <td>2014-12-31 20:00:00</td>\n",
       "      <td>6.7</td>\n",
       "      <td>28.0</td>\n",
       "    </tr>\n",
       "  </tbody>\n",
       "</table>\n",
       "</div>"
      ],
      "text/plain": [
       "              Datetime  Temperature  Humidity\n",
       "0  2014-12-31 16:00:00         11.1      15.0\n",
       "1  2014-12-31 17:00:00         10.0      16.0\n",
       "2  2014-12-31 18:00:00          8.9      25.0\n",
       "3  2014-12-31 19:00:00          6.7      31.0\n",
       "4  2014-12-31 20:00:00          6.7      28.0"
      ]
     },
     "execution_count": 3,
     "metadata": {},
     "output_type": "execute_result"
    }
   ],
   "source": [
    "#quick view of \n",
    "weather.head()"
   ]
  },
  {
   "cell_type": "code",
   "execution_count": 4,
   "id": "1855e703-31f0-4078-b132-8f75c0cedd03",
   "metadata": {},
   "outputs": [
    {
     "data": {
      "text/html": [
       "<div>\n",
       "<style scoped>\n",
       "    .dataframe tbody tr th:only-of-type {\n",
       "        vertical-align: middle;\n",
       "    }\n",
       "\n",
       "    .dataframe tbody tr th {\n",
       "        vertical-align: top;\n",
       "    }\n",
       "\n",
       "    .dataframe thead th {\n",
       "        text-align: right;\n",
       "    }\n",
       "</style>\n",
       "<table border=\"1\" class=\"dataframe\">\n",
       "  <thead>\n",
       "    <tr style=\"text-align: right;\">\n",
       "      <th></th>\n",
       "      <th>Unnamed: 0</th>\n",
       "      <th>load</th>\n",
       "    </tr>\n",
       "  </thead>\n",
       "  <tbody>\n",
       "    <tr>\n",
       "      <th>0</th>\n",
       "      <td>2015-07-02 00:00:00</td>\n",
       "      <td>3448.0</td>\n",
       "    </tr>\n",
       "    <tr>\n",
       "      <th>1</th>\n",
       "      <td>2015-07-02 01:00:00</td>\n",
       "      <td>3141.0</td>\n",
       "    </tr>\n",
       "    <tr>\n",
       "      <th>2</th>\n",
       "      <td>2015-07-02 02:00:00</td>\n",
       "      <td>2935.0</td>\n",
       "    </tr>\n",
       "    <tr>\n",
       "      <th>3</th>\n",
       "      <td>2015-07-02 03:00:00</td>\n",
       "      <td>2802.0</td>\n",
       "    </tr>\n",
       "    <tr>\n",
       "      <th>4</th>\n",
       "      <td>2015-07-02 04:00:00</td>\n",
       "      <td>2704.0</td>\n",
       "    </tr>\n",
       "  </tbody>\n",
       "</table>\n",
       "</div>"
      ],
      "text/plain": [
       "            Unnamed: 0    load\n",
       "0  2015-07-02 00:00:00  3448.0\n",
       "1  2015-07-02 01:00:00  3141.0\n",
       "2  2015-07-02 02:00:00  2935.0\n",
       "3  2015-07-02 03:00:00  2802.0\n",
       "4  2015-07-02 04:00:00  2704.0"
      ]
     },
     "execution_count": 4,
     "metadata": {},
     "output_type": "execute_result"
    }
   ],
   "source": [
    "cons.head()"
   ]
  },
  {
   "cell_type": "code",
   "execution_count": 7,
   "id": "83a15473-f0e5-43a5-b2d2-ca8c10523c95",
   "metadata": {},
   "outputs": [],
   "source": [
    "#Rename Q2 columns\n",
    "cons.rename(columns={'Unnamed: 0': 'Datetime'}, inplace=True)"
   ]
  },
  {
   "cell_type": "code",
   "execution_count": 8,
   "id": "7ac18e90-75df-44cb-99c5-14fae521041c",
   "metadata": {},
   "outputs": [
    {
     "data": {
      "text/html": [
       "<div>\n",
       "<style scoped>\n",
       "    .dataframe tbody tr th:only-of-type {\n",
       "        vertical-align: middle;\n",
       "    }\n",
       "\n",
       "    .dataframe tbody tr th {\n",
       "        vertical-align: top;\n",
       "    }\n",
       "\n",
       "    .dataframe thead th {\n",
       "        text-align: right;\n",
       "    }\n",
       "</style>\n",
       "<table border=\"1\" class=\"dataframe\">\n",
       "  <thead>\n",
       "    <tr style=\"text-align: right;\">\n",
       "      <th></th>\n",
       "      <th>Datetime</th>\n",
       "      <th>load</th>\n",
       "    </tr>\n",
       "  </thead>\n",
       "  <tbody>\n",
       "    <tr>\n",
       "      <th>0</th>\n",
       "      <td>2015-07-02 00:00:00</td>\n",
       "      <td>3448.0</td>\n",
       "    </tr>\n",
       "    <tr>\n",
       "      <th>1</th>\n",
       "      <td>2015-07-02 01:00:00</td>\n",
       "      <td>3141.0</td>\n",
       "    </tr>\n",
       "    <tr>\n",
       "      <th>2</th>\n",
       "      <td>2015-07-02 02:00:00</td>\n",
       "      <td>2935.0</td>\n",
       "    </tr>\n",
       "    <tr>\n",
       "      <th>3</th>\n",
       "      <td>2015-07-02 03:00:00</td>\n",
       "      <td>2802.0</td>\n",
       "    </tr>\n",
       "    <tr>\n",
       "      <th>4</th>\n",
       "      <td>2015-07-02 04:00:00</td>\n",
       "      <td>2704.0</td>\n",
       "    </tr>\n",
       "  </tbody>\n",
       "</table>\n",
       "</div>"
      ],
      "text/plain": [
       "              Datetime    load\n",
       "0  2015-07-02 00:00:00  3448.0\n",
       "1  2015-07-02 01:00:00  3141.0\n",
       "2  2015-07-02 02:00:00  2935.0\n",
       "3  2015-07-02 03:00:00  2802.0\n",
       "4  2015-07-02 04:00:00  2704.0"
      ]
     },
     "execution_count": 8,
     "metadata": {},
     "output_type": "execute_result"
    }
   ],
   "source": [
    "cons.head()"
   ]
  },
  {
   "cell_type": "code",
   "execution_count": 9,
   "id": "c180ada7-6b7b-4470-8c37-ae3d40d5ddb9",
   "metadata": {},
   "outputs": [],
   "source": [
    "# Perform the merge using the common column\n",
    "fin = pd.merge(weather, cons, on='Datetime')\n"
   ]
  },
  {
   "cell_type": "code",
   "execution_count": 10,
   "id": "7765b591-f6c3-493e-849e-d72d5484e496",
   "metadata": {},
   "outputs": [],
   "source": [
    "fin['Datetime'] = pd.to_datetime(fin['Datetime'], format = \"%Y-%m-%d %H:%M:%S\")\n",
    "\n",
    "#New columns made to analyse the load by month.\n",
    "fin['month'] = fin['Datetime'].dt.month_name()"
   ]
  },
  {
   "cell_type": "code",
   "execution_count": 11,
   "id": "c4a2d3ba-4895-48ff-9a40-beb514f18a70",
   "metadata": {},
   "outputs": [
    {
     "data": {
      "text/html": [
       "<div>\n",
       "<style scoped>\n",
       "    .dataframe tbody tr th:only-of-type {\n",
       "        vertical-align: middle;\n",
       "    }\n",
       "\n",
       "    .dataframe tbody tr th {\n",
       "        vertical-align: top;\n",
       "    }\n",
       "\n",
       "    .dataframe thead th {\n",
       "        text-align: right;\n",
       "    }\n",
       "</style>\n",
       "<table border=\"1\" class=\"dataframe\">\n",
       "  <thead>\n",
       "    <tr style=\"text-align: right;\">\n",
       "      <th></th>\n",
       "      <th>Datetime</th>\n",
       "      <th>Temperature</th>\n",
       "      <th>Humidity</th>\n",
       "      <th>load</th>\n",
       "      <th>month</th>\n",
       "    </tr>\n",
       "  </thead>\n",
       "  <tbody>\n",
       "    <tr>\n",
       "      <th>0</th>\n",
       "      <td>2015-07-02 00:00:00</td>\n",
       "      <td>23.3</td>\n",
       "      <td>60.0</td>\n",
       "      <td>3448.0</td>\n",
       "      <td>July</td>\n",
       "    </tr>\n",
       "    <tr>\n",
       "      <th>1</th>\n",
       "      <td>2015-07-02 01:00:00</td>\n",
       "      <td>22.8</td>\n",
       "      <td>61.0</td>\n",
       "      <td>3141.0</td>\n",
       "      <td>July</td>\n",
       "    </tr>\n",
       "    <tr>\n",
       "      <th>2</th>\n",
       "      <td>2015-07-02 02:00:00</td>\n",
       "      <td>22.8</td>\n",
       "      <td>57.0</td>\n",
       "      <td>2935.0</td>\n",
       "      <td>July</td>\n",
       "    </tr>\n",
       "    <tr>\n",
       "      <th>3</th>\n",
       "      <td>2015-07-02 03:00:00</td>\n",
       "      <td>22.8</td>\n",
       "      <td>59.0</td>\n",
       "      <td>2802.0</td>\n",
       "      <td>July</td>\n",
       "    </tr>\n",
       "    <tr>\n",
       "      <th>4</th>\n",
       "      <td>2015-07-02 04:00:00</td>\n",
       "      <td>22.2</td>\n",
       "      <td>61.0</td>\n",
       "      <td>2704.0</td>\n",
       "      <td>July</td>\n",
       "    </tr>\n",
       "  </tbody>\n",
       "</table>\n",
       "</div>"
      ],
      "text/plain": [
       "             Datetime  Temperature  Humidity    load month\n",
       "0 2015-07-02 00:00:00         23.3      60.0  3448.0  July\n",
       "1 2015-07-02 01:00:00         22.8      61.0  3141.0  July\n",
       "2 2015-07-02 02:00:00         22.8      57.0  2935.0  July\n",
       "3 2015-07-02 03:00:00         22.8      59.0  2802.0  July\n",
       "4 2015-07-02 04:00:00         22.2      61.0  2704.0  July"
      ]
     },
     "execution_count": 11,
     "metadata": {},
     "output_type": "execute_result"
    }
   ],
   "source": [
    "fin.head()"
   ]
  },
  {
   "cell_type": "code",
   "execution_count": 12,
   "id": "c1765720-c47f-436b-82fd-81c18504b54b",
   "metadata": {},
   "outputs": [
    {
     "data": {
      "text/plain": [
       "Datetime        0\n",
       "Temperature    50\n",
       "Humidity       87\n",
       "load           47\n",
       "month           0\n",
       "dtype: int64"
      ]
     },
     "execution_count": 12,
     "metadata": {},
     "output_type": "execute_result"
    }
   ],
   "source": [
    "#check for missing values\n",
    "missing_values_count = fin.isnull().sum()\n",
    "missing_values_count[:]"
   ]
  },
  {
   "cell_type": "code",
   "execution_count": 13,
   "id": "67c7d50b-d2a2-4b83-80fa-0e09cc851c65",
   "metadata": {},
   "outputs": [
    {
     "name": "stdout",
     "output_type": "stream",
     "text": [
      "<class 'pandas.core.frame.DataFrame'>\n",
      "RangeIndex: 45988 entries, 0 to 45987\n",
      "Data columns (total 5 columns):\n",
      " #   Column       Non-Null Count  Dtype         \n",
      "---  ------       --------------  -----         \n",
      " 0   Datetime     45988 non-null  datetime64[ns]\n",
      " 1   Temperature  45938 non-null  float64       \n",
      " 2   Humidity     45901 non-null  float64       \n",
      " 3   load         45941 non-null  float64       \n",
      " 4   month        45988 non-null  object        \n",
      "dtypes: datetime64[ns](1), float64(3), object(1)\n",
      "memory usage: 1.8+ MB\n"
     ]
    }
   ],
   "source": [
    "#more information about fin\n",
    "fin.info()"
   ]
  },
  {
   "cell_type": "code",
   "execution_count": 14,
   "id": "dd47480f-2473-495c-a172-3745eb6bbd60",
   "metadata": {},
   "outputs": [],
   "source": [
    "fin.dropna(inplace=True)"
   ]
  },
  {
   "cell_type": "code",
   "execution_count": 15,
   "id": "1670c3ee-4fd2-44e0-b98d-a329f8a81519",
   "metadata": {},
   "outputs": [
    {
     "data": {
      "text/plain": [
       "Datetime       0\n",
       "Temperature    0\n",
       "Humidity       0\n",
       "load           0\n",
       "month          0\n",
       "dtype: int64"
      ]
     },
     "execution_count": 15,
     "metadata": {},
     "output_type": "execute_result"
    }
   ],
   "source": [
    "#check for missing values\n",
    "missing_values_count = fin.isnull().sum()\n",
    "missing_values_count[:]"
   ]
  },
  {
   "cell_type": "code",
   "execution_count": 16,
   "id": "fa3b99ec-22cb-429f-9330-45f6337b67d0",
   "metadata": {},
   "outputs": [
    {
     "name": "stdout",
     "output_type": "stream",
     "text": [
      "<class 'pandas.core.frame.DataFrame'>\n",
      "Index: 45854 entries, 0 to 45987\n",
      "Data columns (total 5 columns):\n",
      " #   Column       Non-Null Count  Dtype         \n",
      "---  ------       --------------  -----         \n",
      " 0   Datetime     45854 non-null  datetime64[ns]\n",
      " 1   Temperature  45854 non-null  float64       \n",
      " 2   Humidity     45854 non-null  float64       \n",
      " 3   load         45854 non-null  float64       \n",
      " 4   month        45854 non-null  object        \n",
      "dtypes: datetime64[ns](1), float64(3), object(1)\n",
      "memory usage: 2.1+ MB\n"
     ]
    }
   ],
   "source": [
    "#more information about fin\n",
    "fin.info()"
   ]
  },
  {
   "cell_type": "code",
   "execution_count": 17,
   "id": "db1865a1-9181-4799-9b14-90ec2c8fb3fc",
   "metadata": {},
   "outputs": [
    {
     "name": "stdout",
     "output_type": "stream",
     "text": [
      "Number of unique values in Datetime: 45842\n"
     ]
    }
   ],
   "source": [
    "# Get the number of unique values in Datetime column\n",
    "unique_count = fin['Datetime'].nunique()\n",
    "\n",
    "print(\"Number of unique values in Datetime:\", unique_count)"
   ]
  },
  {
   "cell_type": "code",
   "execution_count": 18,
   "id": "e62282f2-ea0c-485d-9ca7-0857c642d56c",
   "metadata": {},
   "outputs": [],
   "source": [
    "#Remove duplicates\n",
    "#Drop missing values in columns where all info needs to be complete.\n",
    "fin = fin.drop_duplicates(subset=['Datetime'])"
   ]
  },
  {
   "cell_type": "code",
   "execution_count": 19,
   "id": "dfb129f0-01f0-4eb3-9c5c-a32cb7261f0f",
   "metadata": {},
   "outputs": [
    {
     "name": "stdout",
     "output_type": "stream",
     "text": [
      "<class 'pandas.core.frame.DataFrame'>\n",
      "Index: 45842 entries, 0 to 45987\n",
      "Data columns (total 5 columns):\n",
      " #   Column       Non-Null Count  Dtype         \n",
      "---  ------       --------------  -----         \n",
      " 0   Datetime     45842 non-null  datetime64[ns]\n",
      " 1   Temperature  45842 non-null  float64       \n",
      " 2   Humidity     45842 non-null  float64       \n",
      " 3   load         45842 non-null  float64       \n",
      " 4   month        45842 non-null  object        \n",
      "dtypes: datetime64[ns](1), float64(3), object(1)\n",
      "memory usage: 2.1+ MB\n"
     ]
    }
   ],
   "source": [
    "#more information about fin\n",
    "fin.info()"
   ]
  },
  {
   "cell_type": "code",
   "execution_count": 20,
   "id": "8ed6036f-755f-40ec-9fee-556fcce455ac",
   "metadata": {},
   "outputs": [],
   "source": [
    "fin.reset_index(drop=True, inplace=True)"
   ]
  },
  {
   "cell_type": "code",
   "execution_count": 21,
   "id": "e2f65366-4263-4243-a2b5-548a61db5894",
   "metadata": {},
   "outputs": [
    {
     "name": "stdout",
     "output_type": "stream",
     "text": [
      "Rows with the maximum value in Temperature:\n",
      "                 Datetime  Temperature  Humidity    load      month\n",
      "45287 2020-09-05 16:00:00         45.6       7.0  5842.0  September\n",
      "45309 2020-09-06 14:00:00         45.6       8.0  6059.0  September\n",
      "Rows with the minimum value in Temperature:\n",
      "                Datetime  Temperature  Humidity    load     month\n",
      "4285 2015-12-28 05:00:00          0.0      56.0  2659.0  December\n"
     ]
    }
   ],
   "source": [
    "# Calculate index of the row with the maximum value in Temperature\n",
    "max_temp = fin['Temperature'].max()\n",
    "\n",
    "# Calculate index of the row with the minimum value in Temperature\n",
    "min_temp = fin['Temperature'].min()\n",
    "\n",
    "# Get the rows with the maximum value in Temperature\n",
    "result1 = fin[fin['Temperature'] == max_temp]\n",
    "\n",
    "# Get the rows with the minimum value in Temperature\n",
    "result2 = fin[fin['Temperature'] == min_temp]\n",
    "\n",
    "print(\"Rows with the maximum value in Temperature:\")\n",
    "print(result1)\n",
    "\n",
    "print(\"Rows with the minimum value in Temperature:\")\n",
    "print(result2)"
   ]
  },
  {
   "cell_type": "code",
   "execution_count": 22,
   "id": "4ae25084-7039-422e-8249-8b3e66f3ea4e",
   "metadata": {},
   "outputs": [
    {
     "name": "stdout",
     "output_type": "stream",
     "text": [
      "Rows with the maximum value in Humidity:\n",
      "                 Datetime  Temperature  Humidity    load     month\n",
      "4142  2015-12-22 06:00:00        11.05     100.0  2618.0  December\n",
      "4163  2015-12-23 03:00:00        10.60     100.0  2444.0  December\n",
      "12625 2016-12-10 03:00:00        10.00     100.0  2466.0  December\n",
      "13995 2017-02-05 05:00:00         8.05     100.0  2283.0  February\n",
      "13996 2017-02-05 06:00:00         7.90     100.0  2320.0  February\n",
      "...                   ...          ...       ...     ...       ...\n",
      "31680 2019-02-14 00:00:00        11.85     100.0  2944.0  February\n",
      "31687 2019-02-14 07:00:00        13.90     100.0  2998.0  February\n",
      "31688 2019-02-14 08:00:00        14.40     100.0  3208.0  February\n",
      "32071 2019-03-02 07:00:00        11.70     100.0  2391.0     March\n",
      "38169 2019-11-12 23:00:00        13.30     100.0  2763.0  November\n",
      "\n",
      "[277 rows x 5 columns]\n",
      "Rows with the minimum value in Humidity:\n",
      "                 Datetime  Temperature  Humidity    load     month\n",
      "37406 2019-10-10 17:00:00         27.2       2.0  3649.0   October\n",
      "37407 2019-10-10 18:00:00         25.6       2.0  3607.0   October\n",
      "37922 2019-11-01 14:00:00         27.2       2.0  3129.0  November\n"
     ]
    }
   ],
   "source": [
    "# Calculate index of the row with the maximum value in Humidity\n",
    "max_hum = fin['Humidity'].max()\n",
    "\n",
    "# Calculate index of the row with the minimum value in Humidity\n",
    "min_hum = fin['Humidity'].min()\n",
    "\n",
    "# Get the rows with the maximum value in Humidity\n",
    "result3 = fin[fin['Humidity'] == max_hum]\n",
    "\n",
    "# Get the rows with the minimum value in Humidity\n",
    "result4 = fin[fin['Humidity'] == min_hum]\n",
    "\n",
    "print(\"Rows with the maximum value in Humidity:\")\n",
    "print(result3)\n",
    "\n",
    "print(\"Rows with the minimum value in Humidity:\")\n",
    "print(result4)"
   ]
  },
  {
   "cell_type": "code",
   "execution_count": 23,
   "id": "0459e641-f435-45af-bfbb-04916282d208",
   "metadata": {},
   "outputs": [
    {
     "name": "stdout",
     "output_type": "stream",
     "text": [
      "3213.9906635836132\n"
     ]
    }
   ],
   "source": [
    "#mean load\n",
    "mean_load = fin['load'].mean()\n",
    "\n",
    "print(mean_load)"
   ]
  },
  {
   "cell_type": "code",
   "execution_count": 24,
   "id": "ffa5ea02-b571-48dc-93d8-6d4e0e6a4af1",
   "metadata": {},
   "outputs": [
    {
     "name": "stdout",
     "output_type": "stream",
     "text": [
      "                 Datetime  Temperature  Humidity    load      month\n",
      "0     2015-07-02 00:00:00         23.3      60.0  3448.0       July\n",
      "8     2015-07-02 08:00:00         25.0      52.0  3368.0       July\n",
      "9     2015-07-02 09:00:00         25.6      50.0  3653.0       July\n",
      "10    2015-07-02 10:00:00         26.1      50.0  3863.0       July\n",
      "11    2015-07-02 11:00:00         28.9      41.0  4107.0       July\n",
      "...                   ...          ...       ...     ...        ...\n",
      "45837 2020-09-28 16:00:00         35.0      17.0  5030.0  September\n",
      "45838 2020-09-28 17:00:00         31.1      42.0  5012.0  September\n",
      "45839 2020-09-28 18:00:00         26.1      58.0  4788.0  September\n",
      "45840 2020-09-28 19:00:00         24.4      64.0  4428.0  September\n",
      "45841 2020-09-28 20:00:00         22.8      71.0  4231.0  September\n",
      "\n",
      "[19172 rows x 5 columns]\n"
     ]
    }
   ],
   "source": [
    "result5 = fin[fin['load'] > mean_load]\n",
    "\n",
    "print(result5)"
   ]
  },
  {
   "cell_type": "code",
   "execution_count": 25,
   "id": "487b9238-9420-41c0-9a88-13329f517e27",
   "metadata": {},
   "outputs": [],
   "source": [
    "fin.to_csv('fin.csv',index=False)"
   ]
  },
  {
   "cell_type": "code",
   "execution_count": 26,
   "id": "0440e9ca-6362-4340-81ba-414e19cc7ab9",
   "metadata": {},
   "outputs": [
    {
     "data": {
      "text/plain": [
       "<Axes: xlabel='month'>"
      ]
     },
     "execution_count": 26,
     "metadata": {},
     "output_type": "execute_result"
    },
    {
     "data": {
      "image/png": "[encoded data removed]",
      "text/plain": [
       "<Figure size 1000x700 with 1 Axes>"
      ]
     },
     "metadata": {},
     "output_type": "display_data"
    }
   ],
   "source": [
    "#Calculate the average load per month.\n",
    "lo=fin.groupby(['month'])['load'].mean()\n",
    "\n",
    "fin = fin.replace(np.nan, 0)\n",
    "\n",
    "lo.plot(kind='bar', figsize=(10, 7))"
   ]
  },
  {
   "cell_type": "code",
   "execution_count": 27,
   "id": "1ac1087b-1e89-4e55-baac-8894ad89470f",
   "metadata": {},
   "outputs": [
    {
     "name": "stderr",
     "output_type": "stream",
     "text": [
      "C:\\Users\\jimts\\AppData\\Local\\Temp\\ipykernel_16012\\1619308329.py:9: FutureWarning: The default of observed=False is deprecated and will be changed to True in a future version of pandas. Pass observed=False to retain current behavior or observed=True to adopt the future default and silence this warning.\n",
      "  lo=fin.groupby(['Range'])['load'].mean()\n"
     ]
    },
    {
     "data": {
      "text/plain": [
       "<Axes: xlabel='Range'>"
      ]
     },
     "execution_count": 27,
     "metadata": {},
     "output_type": "execute_result"
    },
    {
     "data": {
      "image/png": "[encoded data removed]",
      "text/plain": [
       "<Figure size 1000x700 with 1 Axes>"
      ]
     },
     "metadata": {},
     "output_type": "display_data"
    }
   ],
   "source": [
    "# Define the bins for the ranges\n",
    "num_bins = 10\n",
    "bins = pd.cut(fin['Humidity'], bins=num_bins)\n",
    "\n",
    "# Create a new column in the DataFrame to store the ranges\n",
    "fin['Range'] = bins\n",
    "\n",
    "#Calculate the average load per month.\n",
    "lo=fin.groupby(['Range'])['load'].mean()\n",
    "\n",
    "fin = fin.replace(np.nan, 0)\n",
    "\n",
    "lo.plot(kind='bar', figsize=(10, 7))\n",
    "\n"
   ]
  },
  {
   "cell_type": "code",
   "execution_count": 28,
   "id": "f9ab3612-ca12-4058-8900-54d8a0537118",
   "metadata": {},
   "outputs": [
    {
     "name": "stderr",
     "output_type": "stream",
     "text": [
      "C:\\Users\\jimts\\AppData\\Local\\Temp\\ipykernel_16012\\404711522.py:9: FutureWarning: The default of observed=False is deprecated and will be changed to True in a future version of pandas. Pass observed=False to retain current behavior or observed=True to adopt the future default and silence this warning.\n",
      "  lo=fin.groupby(['Range1'])['load'].mean()\n"
     ]
    },
    {
     "data": {
      "text/plain": [
       "<Axes: xlabel='Range1'>"
      ]
     },
     "execution_count": 28,
     "metadata": {},
     "output_type": "execute_result"
    },
    {
     "data": {
      "image/png": "[encoded data removed]",
      "text/plain": [
       "<Figure size 1000x700 with 1 Axes>"
      ]
     },
     "metadata": {},
     "output_type": "display_data"
    }
   ],
   "source": [
    "# Define the bins for the ranges\n",
    "num_bins1 = 10\n",
    "bins1 = pd.cut(fin['Temperature'], bins=num_bins1)\n",
    "\n",
    "# Create a new column in the DataFrame to store the ranges\n",
    "fin['Range1'] = bins1\n",
    "\n",
    "#Calculate the average load per month.\n",
    "lo=fin.groupby(['Range1'])['load'].mean()\n",
    "\n",
    "fin = fin.replace(np.nan, 0)\n",
    "\n",
    "lo.plot(kind='bar', figsize=(10, 7))"
   ]
  },
  {
   "cell_type": "code",
   "execution_count": null,
   "id": "484df32c-3313-43cf-bf6a-3ee2e1b21c2d",
   "metadata": {},
   "outputs": [],
   "source": []
  }
 ],
 "metadata": {
  "kernelspec": {
   "display_name": "Python 3 (ipykernel)",
   "language": "python",
   "name": "python3"
  },
  "language_info": {
   "codemirror_mode": {
    "name": "ipython",
    "version": 3
   },
   "file_extension": ".py",
   "mimetype": "text/x-python",
   "name": "python",
   "nbconvert_exporter": "python",
   "pygments_lexer": "ipython3",
   "version": "3.11.7"
  }
 },
 "nbformat": 4,
 "nbformat_minor": 5
}
