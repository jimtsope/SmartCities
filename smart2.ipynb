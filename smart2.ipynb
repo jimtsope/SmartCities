{
 "cells": [
  {
   "cell_type": "code",
   "execution_count": 1,
   "id": "766f1e18-3cc4-4681-a87f-e931f11fcd5d",
   "metadata": {},
   "outputs": [],
   "source": [
    "import pandas as pd\n",
    "from sklearn.ensemble import RandomForestRegressor\n",
    "from sklearn.model_selection import train_test_split\n",
    "from sklearn.metrics import mean_squared_error\n"
   ]
  },
  {
   "cell_type": "code",
   "execution_count": 2,
   "id": "28ec4c93-76db-46e1-bd72-9c4218cb2da1",
   "metadata": {},
   "outputs": [],
   "source": [
    "# Load historical data\n",
    "data = pd.read_csv('fin.csv',parse_dates=['Datetime'], index_col='Datetime')\n"
   ]
  },
  {
   "cell_type": "code",
   "execution_count": 3,
   "id": "d5d2f2e5-8296-4681-835c-1ff0da1f1442",
   "metadata": {},
   "outputs": [
    {
     "name": "stdout",
     "output_type": "stream",
     "text": [
      "Mean Squared Error: 100612.22963000904\n"
     ]
    }
   ],
   "source": [
    "# Feature engineering\n",
    "data['day_of_week'] = data.index.dayofweek\n",
    "data['hour_of_day'] = data.index.hour\n",
    "data['month'] = data.index.month\n",
    "\n",
    "# Split data into training and testing sets\n",
    "train_data, test_data = train_test_split(data, test_size=0.2, shuffle=False)\n",
    "\n",
    "# Define features and target variable\n",
    "features = ['month','day_of_week','hour_of_day','Temperature', 'Humidity']\n",
    "target = 'load'\n",
    "\n",
    "# Train model\n",
    "model = RandomForestRegressor(n_estimators=100)\n",
    "model.fit(train_data[features], train_data[target])\n",
    "\n",
    "# Evaluate model\n",
    "predictions = model.predict(test_data[features])\n",
    "mse = mean_squared_error(test_data[target], predictions)\n",
    "print(\"Mean Squared Error:\", mse)"
   ]
  },
  {
   "cell_type": "code",
   "execution_count": null,
   "id": "16f23744-8845-4542-99dc-9efeafeae9c9",
   "metadata": {},
   "outputs": [],
   "source": []
  }
 ],
 "metadata": {
  "kernelspec": {
   "display_name": "Python 3 (ipykernel)",
   "language": "python",
   "name": "python3"
  },
  "language_info": {
   "codemirror_mode": {
    "name": "ipython",
    "version": 3
   },
   "file_extension": ".py",
   "mimetype": "text/x-python",
   "name": "python",
   "nbconvert_exporter": "python",
   "pygments_lexer": "ipython3",
   "version": "3.11.7"
  }
 },
 "nbformat": 4,
 "nbformat_minor": 5
}
